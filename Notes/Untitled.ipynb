{
 "cells": [
  {
   "cell_type": "markdown",
   "metadata": {},
   "source": [
    "## Lecture 5 (July $17^{th}$)"
   ]
  },
  {
   "cell_type": "markdown",
   "metadata": {},
   "source": [
    "## How do we effectiveness of an IR system?\n",
    "\n",
    "We measure effectiveness by looking at how relevant the IR system is."
   ]
  },
  {
   "cell_type": "markdown",
   "metadata": {},
   "source": [
    "## What are the three components of measuring relevance of an IR system?\n",
    "\n",
    "The three components are:\n",
    "\n",
    "1. Set of benchmark documents.\n",
    "2. Set of benchmark queries on the documents above.\n",
    "3. Set of results on the above queries that tell us if the documents returned is relevant or not. "
   ]
  },
  {
   "cell_type": "markdown",
   "metadata": {},
   "source": [
    "## What is precision and recall?\n",
    "\n",
    "Precision, in IR is, out of all the documents that were returned, what fraction were relevant.\n",
    "\n",
    "$$ P = \\frac{\\text{number of documents relevant}}{\\text{number of documents retrieved}}$$\n",
    "\n",
    "Recall, in IR is, out of all the relevant documents, what fraction were retrieved.\n",
    "\n",
    "$$ R = \\frac{\\text{number of documents retrieved}}{\\text{number of documents relevant}}$$"
   ]
  },
  {
   "cell_type": "markdown",
   "metadata": {},
   "source": [
    "## What are false positives and false negatives in IR?\n",
    "\n",
    "False positive is when a document is retrieved when it isn't relevant.\n",
    "\n",
    "False negative is when a document is relvevant, but not retrieved. "
   ]
  },
  {
   "cell_type": "markdown",
   "metadata": {},
   "source": [
    "## What is F-measure?\n",
    "\n",
    "F-measure is used to make sure that both precision and recall aren't low. Extreme values are punished in this. \n",
    "\n",
    "F-measure is the weighted harmonic mean of precision and recall. \n",
    "\n",
    "$$F_{1} = \\frac{(\\beta^2 + 1) * PR}{\\beta^2 P + R} $$\n",
    "\n",
    "$$\\beta^2 = \\frac{1 - \\alpha}{\\alpha}$$"
   ]
  },
  {
   "cell_type": "markdown",
   "metadata": {},
   "source": [
    "## How does the value of $\\beta$ affect the impact of either precision or recall?\n",
    "\n",
    "A $\\beta$ value of 1 gives it almost an equal weightage. But a higher $\\beta$ value gives higher preference to recall."
   ]
  },
  {
   "cell_type": "markdown",
   "metadata": {},
   "source": [
    "## Check Precision-Recall Curve.!!"
   ]
  },
  {
   "cell_type": "markdown",
   "metadata": {},
   "source": [
    "## How do we calculate average precision for a query?\n",
    "\n",
    "We first find the top k documents for a given query.\n",
    "\n",
    "We then calculate the precision for each $k_i$ where $i$ starts from 1 and increases to $k$.\n",
    "\n",
    "That is,we consider the precision for only the top 1 document(is the topmost document revelant or not).\n",
    "\n",
    "Then, the precision for the top 2 documents. \n",
    "\n",
    "Then, the precision for the top 3 documents, and so on and so forth.\n",
    "\n",
    "Having calculated the precision for all the above documents, we then average it with the number of precision calculations we made. "
   ]
  },
  {
   "cell_type": "markdown",
   "metadata": {},
   "source": [
    "## What is Mean Average Precision?\n",
    "\n",
    "We calculate the average precision for a number of queries and having calculated them, we take the mean of the average precision of the queries."
   ]
  },
  {
   "cell_type": "markdown",
   "metadata": {},
   "source": [
    "## Find out what Kappa Statistic is.!"
   ]
  },
  {
   "cell_type": "code",
   "execution_count": null,
   "metadata": {},
   "outputs": [],
   "source": []
  },
  {
   "cell_type": "code",
   "execution_count": null,
   "metadata": {},
   "outputs": [],
   "source": []
  },
  {
   "cell_type": "code",
   "execution_count": null,
   "metadata": {},
   "outputs": [],
   "source": []
  },
  {
   "cell_type": "code",
   "execution_count": null,
   "metadata": {},
   "outputs": [],
   "source": []
  },
  {
   "cell_type": "code",
   "execution_count": null,
   "metadata": {},
   "outputs": [],
   "source": []
  },
  {
   "cell_type": "code",
   "execution_count": null,
   "metadata": {},
   "outputs": [],
   "source": []
  },
  {
   "cell_type": "code",
   "execution_count": null,
   "metadata": {},
   "outputs": [],
   "source": []
  },
  {
   "cell_type": "code",
   "execution_count": null,
   "metadata": {},
   "outputs": [],
   "source": []
  },
  {
   "cell_type": "code",
   "execution_count": null,
   "metadata": {},
   "outputs": [],
   "source": []
  },
  {
   "cell_type": "code",
   "execution_count": null,
   "metadata": {},
   "outputs": [],
   "source": []
  },
  {
   "cell_type": "code",
   "execution_count": null,
   "metadata": {},
   "outputs": [],
   "source": []
  },
  {
   "cell_type": "code",
   "execution_count": null,
   "metadata": {},
   "outputs": [],
   "source": []
  },
  {
   "cell_type": "code",
   "execution_count": null,
   "metadata": {},
   "outputs": [],
   "source": []
  },
  {
   "cell_type": "code",
   "execution_count": null,
   "metadata": {},
   "outputs": [],
   "source": []
  },
  {
   "cell_type": "code",
   "execution_count": null,
   "metadata": {},
   "outputs": [],
   "source": []
  },
  {
   "cell_type": "code",
   "execution_count": null,
   "metadata": {},
   "outputs": [],
   "source": []
  },
  {
   "cell_type": "code",
   "execution_count": null,
   "metadata": {},
   "outputs": [],
   "source": []
  },
  {
   "cell_type": "code",
   "execution_count": null,
   "metadata": {},
   "outputs": [],
   "source": []
  },
  {
   "cell_type": "code",
   "execution_count": null,
   "metadata": {},
   "outputs": [],
   "source": []
  },
  {
   "cell_type": "code",
   "execution_count": null,
   "metadata": {},
   "outputs": [],
   "source": []
  },
  {
   "cell_type": "code",
   "execution_count": null,
   "metadata": {},
   "outputs": [],
   "source": []
  },
  {
   "cell_type": "markdown",
   "metadata": {},
   "source": []
  }
 ],
 "metadata": {
  "kernelspec": {
   "display_name": "Python 3",
   "language": "python",
   "name": "python3"
  },
  "language_info": {
   "codemirror_mode": {
    "name": "ipython",
    "version": 3
   },
   "file_extension": ".py",
   "mimetype": "text/x-python",
   "name": "python",
   "nbconvert_exporter": "python",
   "pygments_lexer": "ipython3",
   "version": "3.6.7"
  }
 },
 "nbformat": 4,
 "nbformat_minor": 2
}
