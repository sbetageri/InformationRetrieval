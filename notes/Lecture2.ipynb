{
 "cells": [
  {
   "cell_type": "markdown",
   "metadata": {},
   "source": [
    "# Lecture 2"
   ]
  },
  {
   "cell_type": "markdown",
   "metadata": {},
   "source": [
    "## How is efficiency of an IR system measured?"
   ]
  },
  {
   "cell_type": "markdown",
   "metadata": {},
   "source": [
    "Efficiency is measured in 5 ways:\n",
    "\n",
    "1. Indexing time : Time taken to index a given set of documents.\n",
    "2. Indexing space: Space taken in memory, during indexing.\n",
    "3. Indexing storage: Disk space taken to store the index.\n",
    "4. Query latency : Time taken to execute the query\n",
    "5. Query Throughput : Number of queries executed in unit time."
   ]
  },
  {
   "cell_type": "markdown",
   "metadata": {},
   "source": [
    "## How is an AND query executed?"
   ]
  },
  {
   "cell_type": "markdown",
   "metadata": {},
   "source": [
    "The AND query works by intersecting posting lists. \n",
    "\n",
    "term1 -> d1, d4, d6, d7\n",
    "\n",
    "term2 -> d3, d5, d9, d10, d11, d108\n",
    "\n",
    "\n",
    "The resulting AND query for term1 and term2 will return only d4"
   ]
  },
  {
   "cell_type": "markdown",
   "metadata": {},
   "source": [
    "## How do we intersect posting lists?"
   ]
  },
  {
   "cell_type": "markdown",
   "metadata": {},
   "source": [
    "The algorithm used to intersect posting lists is also called the merge algorithm. \n",
    "\n",
    "Pseudocode:\n",
    "\n",
    "```\n",
    "# Input is two posting lists sorted in ascending order.\n",
    "merge(l_a, l_b):\n",
    "    ans = []\n",
    "    # Init the pointers to the list\n",
    "    p1 = 0\n",
    "    p2 = 0\n",
    "    while p1 < len(l_a) and p2 < len(l_b):\n",
    "        if l_a[p1] == l_b[p2]:\n",
    "            ans.append(l_a[p1])\n",
    "            p1 += 1\n",
    "            p2 += 1\n",
    "        elif l_a[p1] < l_b[p2]:\n",
    "            p1 += 1\n",
    "        else:\n",
    "            p2 += 1\n",
    "    return ans\n",
    "```\n",
    "\n",
    "What is happening in the algorithm is as follows.\n",
    "\n",
    "We initialise two pointers to point to the first element of two posting lists.\n",
    "\n",
    "As long as the pointers haven't crossed the list, ie, still point to elements within the list, we continue in the while loop. \n",
    "\n",
    "if the elements of both the lists are equal, then we increment both pointers.\n",
    "\n",
    "If not, we increment the pointer that points to the smaller element in the given list."
   ]
  },
  {
   "cell_type": "markdown",
   "metadata": {},
   "source": [
    "## What is the running time of the merge algorithm?"
   ]
  },
  {
   "cell_type": "markdown",
   "metadata": {},
   "source": [
    "The running time is $ O(m * n) $\n",
    "\n",
    "Where $m, n$ are length of the two lists respectively."
   ]
  },
  {
   "cell_type": "markdown",
   "metadata": {},
   "source": [
    "## How can we reduce the running time of the merge algorithm?"
   ]
  },
  {
   "cell_type": "markdown",
   "metadata": {},
   "source": [
    "We use something called skip pointers. It is shown in the image below."
   ]
  },
  {
   "cell_type": "markdown",
   "metadata": {},
   "source": [
    "<img src=\"Skip_Pointers.png\">"
   ]
  },
  {
   "cell_type": "markdown",
   "metadata": {},
   "source": [
    "## How are skip pointers used?"
   ]
  },
  {
   "cell_type": "markdown",
   "metadata": {},
   "source": [
    "When a skip pointer is used in a posting list, the merge algorithm changes as follows.\n",
    "\n",
    "Instead of comparing with the elements in the posting lists, we check if there is a skip pointer from the current element. If the skip pointer points to an element that is smaller than the element on the other list, then we can jump ahead to the skip pointer's location instead of incrementing and checking. "
   ]
  },
  {
   "cell_type": "markdown",
   "metadata": {},
   "source": [
    "## What are the challenges of using skip pointers?"
   ]
  },
  {
   "cell_type": "markdown",
   "metadata": {},
   "source": [
    "The challenges are:\n",
    "\n",
    "1. More skip distance -> few successful skips\n",
    "2. Short skip distance -> more successful skips, but more comparisions. "
   ]
  },
  {
   "cell_type": "markdown",
   "metadata": {},
   "source": [
    "## How are skips placed?"
   ]
  },
  {
   "cell_type": "markdown",
   "metadata": {},
   "source": [
    "Skips are placed based on a heuristic. A good idea is to use $\\sqrt{L}$\n",
    "\n",
    "Where $L$ is the length of the posting list.\n",
    "\n",
    "One issue with this is that if L changes, then the skip pointers will be garbled. "
   ]
  },
  {
   "cell_type": "markdown",
   "metadata": {},
   "source": [
    "## What are phrase queries? "
   ]
  },
  {
   "cell_type": "markdown",
   "metadata": {},
   "source": [
    "Queries where instead of treating each query term as individual, a group of terms, like **Stanford University** is considered to be a single search term. \n",
    "\n",
    "This is important because of the information need of the user. "
   ]
  },
  {
   "cell_type": "markdown",
   "metadata": {},
   "source": [
    "## How do we handle phrase queries?"
   ]
  },
  {
   "cell_type": "markdown",
   "metadata": {},
   "source": [
    "We handle phrase queries by using two approaches: \n",
    "\n",
    "1. Phrase indexes\n",
    "2. Positional indexes"
   ]
  },
  {
   "cell_type": "markdown",
   "metadata": {},
   "source": [
    "## What are phrase indexes?"
   ]
  },
  {
   "cell_type": "markdown",
   "metadata": {},
   "source": [
    "Instead of using a single tokens are indexes, we use a group of tokens as indexes. Say, if we're using bi-word indexes, then we index using two terms instead of just one. "
   ]
  },
  {
   "cell_type": "markdown",
   "metadata": {},
   "source": [
    "## What are n-grams?"
   ]
  },
  {
   "cell_type": "markdown",
   "metadata": {},
   "source": [
    "Phrase indexing where a group of n terms are considered to be an index.\n",
    "\n",
    "Bi-word is when two terms are indexed together.\n",
    "\n",
    "Tri-word is when three words are indexed together."
   ]
  },
  {
   "cell_type": "markdown",
   "metadata": {},
   "source": [
    "## How do we use n-grams?"
   ]
  },
  {
   "cell_type": "markdown",
   "metadata": {},
   "source": [
    "We index for all sequential combinations of n terms."
   ]
  },
  {
   "cell_type": "markdown",
   "metadata": {},
   "source": [
    "## How does a query with 4 terms work when using a bi-word index?"
   ]
  },
  {
   "cell_type": "markdown",
   "metadata": {},
   "source": [
    "When a query has 4 terms and we have bi-gram indexing, **Stanford Uni Palo Alto**, we do the following:\n",
    "\n",
    "1. Split the query into pairs of terms, **[Stanford Uni], [Uni Palo], [Palo Alto]** \n",
    "\n",
    "    We then perform a boolean AND query on the sets of words. As\n",
    "    **[Stanford Uni] AND [Uni Palo] AND [Palo Alto]**\n",
    "\n",
    "2. We then post-process the results to filter out false-positives."
   ]
  },
  {
   "cell_type": "markdown",
   "metadata": {},
   "source": [
    "## What are the benefits of using phrase indexes? \n",
    "\n",
    "If we use phrase indexes, then the chances of getting false positives reduces. Especially if we use tri-word."
   ]
  },
  {
   "cell_type": "markdown",
   "metadata": {},
   "source": [
    "## What are the cons of using phrase indexes?\n",
    "\n",
    "Phrase indexes tend to make the index sizes large. This is a problem if we have to index on a large corpus and if the corpus keeps changing. "
   ]
  },
  {
   "cell_type": "markdown",
   "metadata": {},
   "source": [
    "## What is position indexing?\n",
    "\n",
    "Poisitional indexing is when along with storing the document where the term was found, the position where the term was found. "
   ]
  },
  {
   "cell_type": "markdown",
   "metadata": {},
   "source": [
    "## How does proximity search work?\n",
    "\n",
    "When we use positional indexing, we are in a position where we can do the following query.\n",
    "\n",
    "**Employment \\4 Place** where it means that the term place has to be 4 places after employment. "
   ]
  },
  {
   "cell_type": "markdown",
   "metadata": {},
   "source": [
    "## What is the benefit of positional indexing?\n",
    "\n",
    "1. Saves space when compared to phrase indexing.\n",
    "2. Allows us to do proximity searches. "
   ]
  },
  {
   "cell_type": "markdown",
   "metadata": {},
   "source": [
    "## What are combinational schemes?\n",
    "\n",
    "Instead of using all bi-words, we can instead index on only common bi-words. This along with positional indexing is called a combinational scheme."
   ]
  },
  {
   "cell_type": "markdown",
   "metadata": {},
   "source": [
    "## How do we find all documents that contain terms that begin with the word **mon**?\n",
    "\n",
    "The vocabulary has to be stored as a tree.\n",
    "\n",
    "Let's represent all words that begin with the word mon as mon*. This is a wildcard query. \n",
    "\n",
    "It is possible to find all terms that begin with mon* if we use a tree to store the indexes.\n",
    "\n",
    "If a tree is used, the search quickly becomes finding all terms that are in the range mon <= moo"
   ]
  },
  {
   "cell_type": "markdown",
   "metadata": {},
   "source": [
    "## How do we find all documents that end with mon?\n",
    "\n",
    "We follow the same principle as above. Instead of storing terms as they are in the tree, we store reversed terms in the tree. \n",
    "\n",
    "When searching, we then search for terms that begin with *mon* in the reversed tree."
   ]
  },
  {
   "cell_type": "markdown",
   "metadata": {},
   "source": [
    "## How does permutex indexing help us with wildcard queries? \n",
    "\n",
    "Permutex indexing helps when the wildcard is in the middle of the term.\n",
    "\n",
    "Example, he*lo?\n",
    "\n",
    "We append a $ symbol to the query and rotate it such that the * is at the end of the query.\n",
    "\n",
    "he*lo -> he*lo$ -> lo$he*\n",
    "\n",
    "We then map this rotated term lo$he* to hello"
   ]
  },
  {
   "cell_type": "markdown",
   "metadata": {},
   "source": [
    "## What are k-grams? Use bi-gram to explain.\n",
    "\n",
    "Instead of mapping words, we map k sequences of characters. The special symbol $ is used to denote start and end of a word.\n",
    "\n",
    "So a word like $hello \\rightarrow {$h, he, el, ll, lo, o$}$\n",
    "\n",
    "Each of these k-gram terms are then mapped, in another inverted index, to words that they appear in.\n",
    "\n",
    "Ex: \n",
    "\n",
    "$m -> melt, mars, moon, etc\n",
    "\n",
    "ma -> madden, mars, mash, mast"
   ]
  },
  {
   "cell_type": "markdown",
   "metadata": {},
   "source": [
    "## How are wildcard queries processed when using k-grams?\n",
    "\n",
    "Suppose we're given a query of the form mon*\n",
    "\n",
    "We break the query into bi-grams(assuming bi-gram indexing) and the query term is now\n",
    "\n",
    "mon* -> {$m, mo, on}\n",
    "\n",
    "We then run a boolean AND query for the above bi-grams.\n",
    "\n",
    "Post filtering has to be performed on the results of the above query."
   ]
  },
  {
   "cell_type": "markdown",
   "metadata": {},
   "source": [
    "## What are the uses of spell correction?\n",
    "\n",
    "Uses:\n",
    "1. Correcting document terms\n",
    "2. Correcting user query"
   ]
  },
  {
   "cell_type": "markdown",
   "metadata": {},
   "source": [
    "## What are the two forms of spell correction:\n",
    "\n",
    "1. Isolated form : The word is corrected in isolation, ie, the surrounding words are not looked at.\n",
    "2. Context-sensitive form : The words surrounding the incorrect word is also looked at before spell-correction. "
   ]
  },
  {
   "cell_type": "markdown",
   "metadata": {},
   "source": [
    "## What is edit distance?\n",
    "\n",
    "Given two words, how many edits is needed to convert one word to the other word, by only using insert, replace or delete. "
   ]
  },
  {
   "cell_type": "markdown",
   "metadata": {},
   "source": [
    "## How is Levenshtein distance calculated?\n",
    "\n",
    "The algo for Levenshtein distance is :\n",
    "\n",
    "```\n",
    "if s1[i] == s2[j]:\n",
    "    dist = min(\n",
    "        m[i-1, j-1],\n",
    "        m[i - 1, j] + 1,\n",
    "        m[i, j - 1] + 1\n",
    "    )\n",
    "else:\n",
    "    dist = min(\n",
    "        m[i-1, j-1] + 1,\n",
    "        m[i - 1, j] + 1,\n",
    "        m[i, j - 1] + 1\n",
    "    )\n",
    "```\n",
    "\n",
    "The cells corresponding to i=0 or j=0 have values equal to their non-zero index. \n",
    "\n",
    "<img src='Levenshtein_Distance.png'>"
   ]
  },
  {
   "cell_type": "code",
   "execution_count": null,
   "metadata": {},
   "outputs": [],
   "source": []
  },
  {
   "cell_type": "code",
   "execution_count": null,
   "metadata": {},
   "outputs": [],
   "source": []
  },
  {
   "cell_type": "code",
   "execution_count": null,
   "metadata": {},
   "outputs": [],
   "source": []
  },
  {
   "cell_type": "code",
   "execution_count": null,
   "metadata": {},
   "outputs": [],
   "source": []
  },
  {
   "cell_type": "code",
   "execution_count": null,
   "metadata": {},
   "outputs": [],
   "source": []
  },
  {
   "cell_type": "code",
   "execution_count": null,
   "metadata": {},
   "outputs": [],
   "source": []
  },
  {
   "cell_type": "code",
   "execution_count": null,
   "metadata": {},
   "outputs": [],
   "source": []
  },
  {
   "cell_type": "code",
   "execution_count": null,
   "metadata": {},
   "outputs": [],
   "source": []
  },
  {
   "cell_type": "code",
   "execution_count": null,
   "metadata": {},
   "outputs": [],
   "source": []
  },
  {
   "cell_type": "code",
   "execution_count": null,
   "metadata": {},
   "outputs": [],
   "source": []
  },
  {
   "cell_type": "code",
   "execution_count": null,
   "metadata": {},
   "outputs": [],
   "source": []
  },
  {
   "cell_type": "code",
   "execution_count": null,
   "metadata": {},
   "outputs": [],
   "source": []
  },
  {
   "cell_type": "code",
   "execution_count": null,
   "metadata": {},
   "outputs": [],
   "source": []
  },
  {
   "cell_type": "code",
   "execution_count": null,
   "metadata": {},
   "outputs": [],
   "source": []
  },
  {
   "cell_type": "code",
   "execution_count": null,
   "metadata": {},
   "outputs": [],
   "source": []
  },
  {
   "cell_type": "code",
   "execution_count": null,
   "metadata": {},
   "outputs": [],
   "source": []
  }
 ],
 "metadata": {
  "kernelspec": {
   "display_name": "Python 3",
   "language": "python",
   "name": "python3"
  },
  "language_info": {
   "codemirror_mode": {
    "name": "ipython",
    "version": 3
   },
   "file_extension": ".py",
   "mimetype": "text/x-python",
   "name": "python",
   "nbconvert_exporter": "python",
   "pygments_lexer": "ipython3",
   "version": "3.6.7"
  }
 },
 "nbformat": 4,
 "nbformat_minor": 2
}
